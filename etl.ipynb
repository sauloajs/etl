{
  "nbformat": 4,
  "nbformat_minor": 0,
  "metadata": {
    "colab": {
      "provenance": [],
      "authorship_tag": "ABX9TyMTB8VYzhivcWEQrWUNoD6L"
    },
    "kernelspec": {
      "name": "python3",
      "display_name": "Python 3"
    },
    "language_info": {
      "name": "python"
    }
  },
  "cells": [
    {
      "cell_type": "code",
      "source": [
        "!pip install openai"
      ],
      "metadata": {
        "colab": {
          "base_uri": "https://localhost:8080/"
        },
        "id": "9a3cF972CGO8",
        "outputId": "fe628a96-a6d4-4d11-a0fc-c021dd7bfb59"
      },
      "execution_count": null,
      "outputs": [
        {
          "output_type": "stream",
          "name": "stdout",
          "text": [
            "Requirement already satisfied: openai in /usr/local/lib/python3.10/dist-packages (0.27.8)\n",
            "Requirement already satisfied: requests>=2.20 in /usr/local/lib/python3.10/dist-packages (from openai) (2.31.0)\n",
            "Requirement already satisfied: tqdm in /usr/local/lib/python3.10/dist-packages (from openai) (4.66.1)\n",
            "Requirement already satisfied: aiohttp in /usr/local/lib/python3.10/dist-packages (from openai) (3.8.5)\n",
            "Requirement already satisfied: charset-normalizer<4,>=2 in /usr/local/lib/python3.10/dist-packages (from requests>=2.20->openai) (3.2.0)\n",
            "Requirement already satisfied: idna<4,>=2.5 in /usr/local/lib/python3.10/dist-packages (from requests>=2.20->openai) (3.4)\n",
            "Requirement already satisfied: urllib3<3,>=1.21.1 in /usr/local/lib/python3.10/dist-packages (from requests>=2.20->openai) (2.0.4)\n",
            "Requirement already satisfied: certifi>=2017.4.17 in /usr/local/lib/python3.10/dist-packages (from requests>=2.20->openai) (2023.7.22)\n",
            "Requirement already satisfied: attrs>=17.3.0 in /usr/local/lib/python3.10/dist-packages (from aiohttp->openai) (23.1.0)\n",
            "Requirement already satisfied: multidict<7.0,>=4.5 in /usr/local/lib/python3.10/dist-packages (from aiohttp->openai) (6.0.4)\n",
            "Requirement already satisfied: async-timeout<5.0,>=4.0.0a3 in /usr/local/lib/python3.10/dist-packages (from aiohttp->openai) (4.0.3)\n",
            "Requirement already satisfied: yarl<2.0,>=1.0 in /usr/local/lib/python3.10/dist-packages (from aiohttp->openai) (1.9.2)\n",
            "Requirement already satisfied: frozenlist>=1.1.1 in /usr/local/lib/python3.10/dist-packages (from aiohttp->openai) (1.4.0)\n",
            "Requirement already satisfied: aiosignal>=1.1.2 in /usr/local/lib/python3.10/dist-packages (from aiohttp->openai) (1.3.1)\n"
          ]
        }
      ]
    },
    {
      "cell_type": "code",
      "execution_count": null,
      "metadata": {
        "id": "RoaYGdIH5m0H"
      },
      "outputs": [],
      "source": [
        "import pandas as pd\n",
        "import requests\n",
        "import json\n",
        "import openai"
      ]
    },
    {
      "cell_type": "code",
      "source": [
        "API_URL = 'https://sdw-2023-prd.up.railway.app'"
      ],
      "metadata": {
        "id": "TXcm3Qil5tOf"
      },
      "execution_count": null,
      "outputs": []
    },
    {
      "cell_type": "code",
      "source": [
        "users = pd.read_csv('users.csv')\n",
        "users.head()"
      ],
      "metadata": {
        "colab": {
          "base_uri": "https://localhost:8080/",
          "height": 89
        },
        "id": "xvnfp1lg7dMC",
        "outputId": "64cd4d7e-0626-4638-e53f-d2fe849bc2df"
      },
      "execution_count": null,
      "outputs": [
        {
          "output_type": "execute_result",
          "data": {
            "text/plain": [
              "   id\n",
              "0   1"
            ],
            "text/html": [
              "\n",
              "  <div id=\"df-c357dda0-92db-469b-b56b-63011d7b3d32\" class=\"colab-df-container\">\n",
              "    <div>\n",
              "<style scoped>\n",
              "    .dataframe tbody tr th:only-of-type {\n",
              "        vertical-align: middle;\n",
              "    }\n",
              "\n",
              "    .dataframe tbody tr th {\n",
              "        vertical-align: top;\n",
              "    }\n",
              "\n",
              "    .dataframe thead th {\n",
              "        text-align: right;\n",
              "    }\n",
              "</style>\n",
              "<table border=\"1\" class=\"dataframe\">\n",
              "  <thead>\n",
              "    <tr style=\"text-align: right;\">\n",
              "      <th></th>\n",
              "      <th>id</th>\n",
              "    </tr>\n",
              "  </thead>\n",
              "  <tbody>\n",
              "    <tr>\n",
              "      <th>0</th>\n",
              "      <td>1</td>\n",
              "    </tr>\n",
              "  </tbody>\n",
              "</table>\n",
              "</div>\n",
              "    <div class=\"colab-df-buttons\">\n",
              "\n",
              "  <div class=\"colab-df-container\">\n",
              "    <button class=\"colab-df-convert\" onclick=\"convertToInteractive('df-c357dda0-92db-469b-b56b-63011d7b3d32')\"\n",
              "            title=\"Convert this dataframe to an interactive table.\"\n",
              "            style=\"display:none;\">\n",
              "\n",
              "  <svg xmlns=\"http://www.w3.org/2000/svg\" height=\"24px\" viewBox=\"0 -960 960 960\">\n",
              "    <path d=\"M120-120v-720h720v720H120Zm60-500h600v-160H180v160Zm220 220h160v-160H400v160Zm0 220h160v-160H400v160ZM180-400h160v-160H180v160Zm440 0h160v-160H620v160ZM180-180h160v-160H180v160Zm440 0h160v-160H620v160Z\"/>\n",
              "  </svg>\n",
              "    </button>\n",
              "\n",
              "  <style>\n",
              "    .colab-df-container {\n",
              "      display:flex;\n",
              "      gap: 12px;\n",
              "    }\n",
              "\n",
              "    .colab-df-convert {\n",
              "      background-color: #E8F0FE;\n",
              "      border: none;\n",
              "      border-radius: 50%;\n",
              "      cursor: pointer;\n",
              "      display: none;\n",
              "      fill: #1967D2;\n",
              "      height: 32px;\n",
              "      padding: 0 0 0 0;\n",
              "      width: 32px;\n",
              "    }\n",
              "\n",
              "    .colab-df-convert:hover {\n",
              "      background-color: #E2EBFA;\n",
              "      box-shadow: 0px 1px 2px rgba(60, 64, 67, 0.3), 0px 1px 3px 1px rgba(60, 64, 67, 0.15);\n",
              "      fill: #174EA6;\n",
              "    }\n",
              "\n",
              "    .colab-df-buttons div {\n",
              "      margin-bottom: 4px;\n",
              "    }\n",
              "\n",
              "    [theme=dark] .colab-df-convert {\n",
              "      background-color: #3B4455;\n",
              "      fill: #D2E3FC;\n",
              "    }\n",
              "\n",
              "    [theme=dark] .colab-df-convert:hover {\n",
              "      background-color: #434B5C;\n",
              "      box-shadow: 0px 1px 3px 1px rgba(0, 0, 0, 0.15);\n",
              "      filter: drop-shadow(0px 1px 2px rgba(0, 0, 0, 0.3));\n",
              "      fill: #FFFFFF;\n",
              "    }\n",
              "  </style>\n",
              "\n",
              "    <script>\n",
              "      const buttonEl =\n",
              "        document.querySelector('#df-c357dda0-92db-469b-b56b-63011d7b3d32 button.colab-df-convert');\n",
              "      buttonEl.style.display =\n",
              "        google.colab.kernel.accessAllowed ? 'block' : 'none';\n",
              "\n",
              "      async function convertToInteractive(key) {\n",
              "        const element = document.querySelector('#df-c357dda0-92db-469b-b56b-63011d7b3d32');\n",
              "        const dataTable =\n",
              "          await google.colab.kernel.invokeFunction('convertToInteractive',\n",
              "                                                    [key], {});\n",
              "        if (!dataTable) return;\n",
              "\n",
              "        const docLinkHtml = 'Like what you see? Visit the ' +\n",
              "          '<a target=\"_blank\" href=https://colab.research.google.com/notebooks/data_table.ipynb>data table notebook</a>'\n",
              "          + ' to learn more about interactive tables.';\n",
              "        element.innerHTML = '';\n",
              "        dataTable['output_type'] = 'display_data';\n",
              "        await google.colab.output.renderOutput(dataTable, element);\n",
              "        const docLink = document.createElement('div');\n",
              "        docLink.innerHTML = docLinkHtml;\n",
              "        element.appendChild(docLink);\n",
              "      }\n",
              "    </script>\n",
              "  </div>\n",
              "\n",
              "\n",
              "<div id=\"df-944696d0-63c3-47d1-8b9c-cd56ddcc1df1\">\n",
              "  <button class=\"colab-df-quickchart\" onclick=\"quickchart('df-944696d0-63c3-47d1-8b9c-cd56ddcc1df1')\"\n",
              "            title=\"Suggest charts.\"\n",
              "            style=\"display:none;\">\n",
              "\n",
              "<svg xmlns=\"http://www.w3.org/2000/svg\" height=\"24px\"viewBox=\"0 0 24 24\"\n",
              "     width=\"24px\">\n",
              "    <g>\n",
              "        <path d=\"M19 3H5c-1.1 0-2 .9-2 2v14c0 1.1.9 2 2 2h14c1.1 0 2-.9 2-2V5c0-1.1-.9-2-2-2zM9 17H7v-7h2v7zm4 0h-2V7h2v10zm4 0h-2v-4h2v4z\"/>\n",
              "    </g>\n",
              "</svg>\n",
              "  </button>\n",
              "\n",
              "<style>\n",
              "  .colab-df-quickchart {\n",
              "    background-color: #E8F0FE;\n",
              "    border: none;\n",
              "    border-radius: 50%;\n",
              "    cursor: pointer;\n",
              "    display: none;\n",
              "    fill: #1967D2;\n",
              "    height: 32px;\n",
              "    padding: 0 0 0 0;\n",
              "    width: 32px;\n",
              "  }\n",
              "\n",
              "  .colab-df-quickchart:hover {\n",
              "    background-color: #E2EBFA;\n",
              "    box-shadow: 0px 1px 2px rgba(60, 64, 67, 0.3), 0px 1px 3px 1px rgba(60, 64, 67, 0.15);\n",
              "    fill: #174EA6;\n",
              "  }\n",
              "\n",
              "  [theme=dark] .colab-df-quickchart {\n",
              "    background-color: #3B4455;\n",
              "    fill: #D2E3FC;\n",
              "  }\n",
              "\n",
              "  [theme=dark] .colab-df-quickchart:hover {\n",
              "    background-color: #434B5C;\n",
              "    box-shadow: 0px 1px 3px 1px rgba(0, 0, 0, 0.15);\n",
              "    filter: drop-shadow(0px 1px 2px rgba(0, 0, 0, 0.3));\n",
              "    fill: #FFFFFF;\n",
              "  }\n",
              "</style>\n",
              "\n",
              "  <script>\n",
              "    async function quickchart(key) {\n",
              "      const charts = await google.colab.kernel.invokeFunction(\n",
              "          'suggestCharts', [key], {});\n",
              "    }\n",
              "    (() => {\n",
              "      let quickchartButtonEl =\n",
              "        document.querySelector('#df-944696d0-63c3-47d1-8b9c-cd56ddcc1df1 button');\n",
              "      quickchartButtonEl.style.display =\n",
              "        google.colab.kernel.accessAllowed ? 'block' : 'none';\n",
              "    })();\n",
              "  </script>\n",
              "</div>\n",
              "    </div>\n",
              "  </div>\n"
            ]
          },
          "metadata": {},
          "execution_count": 46
        }
      ]
    },
    {
      "cell_type": "code",
      "source": [
        "def get_user(id):\n",
        "  response = requests.get(f'{API_URL}/users/{id}')\n",
        "\n",
        "  return response.json() if response.status_code == 200 else None"
      ],
      "metadata": {
        "id": "G-UsziOf-N7I"
      },
      "execution_count": null,
      "outputs": []
    },
    {
      "cell_type": "code",
      "source": [
        "users = [user for id in users['id'] if (user := get_user(id)) is not None]\n",
        "\n",
        "print(json.dumps(users, indent=2))"
      ],
      "metadata": {
        "colab": {
          "base_uri": "https://localhost:8080/"
        },
        "id": "HoCg7gOK7qho",
        "outputId": "cfa7463c-aae3-4d50-946a-6fb68f10ed0a"
      },
      "execution_count": null,
      "outputs": [
        {
          "output_type": "stream",
          "name": "stdout",
          "text": [
            "[\n",
            "  {\n",
            "    \"id\": 1,\n",
            "    \"name\": \"Devweekerson\",\n",
            "    \"account\": {\n",
            "      \"id\": 1,\n",
            "      \"number\": \"01.097954-4\",\n",
            "      \"agency\": \"2030\",\n",
            "      \"balance\": 624.12,\n",
            "      \"limit\": 1000.0\n",
            "    },\n",
            "    \"card\": {\n",
            "      \"id\": 1,\n",
            "      \"number\": \"xxxx xxxx xxxx 1111\",\n",
            "      \"limit\": 2000.0\n",
            "    },\n",
            "    \"features\": [\n",
            "      {\n",
            "        \"id\": 2,\n",
            "        \"icon\": \"https://digitalinnovationone.github.io/santander-dev-week-2023-api/icons/pay.svg\",\n",
            "        \"description\": \"Pagar\"\n",
            "      },\n",
            "      {\n",
            "        \"id\": 3,\n",
            "        \"icon\": \"https://digitalinnovationone.github.io/santander-dev-week-2023-api/icons/transfer.svg\",\n",
            "        \"description\": \"Transferir\"\n",
            "      },\n",
            "      {\n",
            "        \"id\": 4,\n",
            "        \"icon\": \"https://digitalinnovationone.github.io/santander-dev-week-2023-api/icons/account.svg\",\n",
            "        \"description\": \"Conta Corrente\"\n",
            "      },\n",
            "      {\n",
            "        \"id\": 5,\n",
            "        \"icon\": \"https://digitalinnovationone.github.io/santander-dev-week-2023-api/icons/cards.svg\",\n",
            "        \"description\": \"Cart\\u00f5es\"\n",
            "      },\n",
            "      {\n",
            "        \"id\": 1,\n",
            "        \"icon\": \"https://digitalinnovationone.github.io/santander-dev-week-2023-api/icons/pix.svg\",\n",
            "        \"description\": \"PIX\"\n",
            "      }\n",
            "    ],\n",
            "    \"news\": [\n",
            "      {\n",
            "        \"id\": 2,\n",
            "        \"icon\": \"https://digitalinnovationone.github.io/santander-dev-week-2023-api/icons/insurance.svg\",\n",
            "        \"description\": \"Santander Seguro Casa, seu faz-tudo. Mais de 50 servi\\u00e7os pra voc\\u00ea. Confira!\"\n",
            "      },\n",
            "      {\n",
            "        \"id\": 1,\n",
            "        \"icon\": \"https://digitalinnovationone.github.io/santander-dev-week-2023-api/icons/credit.svg\",\n",
            "        \"description\": \"O Santander tem solu\\u00e7\\u00f5es de cr\\u00e9dito sob medida pra voc\\u00ea. Confira!\"\n",
            "      }\n",
            "    ]\n",
            "  }\n",
            "]\n"
          ]
        }
      ]
    },
    {
      "cell_type": "code",
      "source": [
        "API_SECRET = 'sk-*************************'"
      ],
      "metadata": {
        "id": "N5sX2YUFCA6e"
      },
      "execution_count": null,
      "outputs": []
    },
    {
      "cell_type": "code",
      "source": [
        "openai.api_key = API_SECRET"
      ],
      "metadata": {
        "id": "_gD0HOWTX9qb"
      },
      "execution_count": null,
      "outputs": []
    },
    {
      "cell_type": "code",
      "source": [
        "def generate_message(user):\n",
        "  completion = openai.ChatCompletion.create(\n",
        "      model = 'gpt-3.5-turbo',\n",
        "      messages = [\n",
        "          {\n",
        "              'role': 'system',\n",
        "              'content': 'Você é um especialista de marketing bancário.'\n",
        "          },\n",
        "          {\n",
        "              'role': 'user',\n",
        "              'content': f'Crie uma mensagem para {user[\"name\"]} sobre a importância dos investimentos (máximo de 100 caracteres)'\n",
        "          }\n",
        "      ]\n",
        "  )\n",
        "\n",
        "  response = completion.choices[0].message.content.strip('\\\"')\n",
        "  return response"
      ],
      "metadata": {
        "id": "VVDOLwVDZJCA"
      },
      "execution_count": null,
      "outputs": []
    },
    {
      "cell_type": "code",
      "source": [
        "for user in users:\n",
        "  message = generate_message(user)\n",
        "  user['news'].append({\n",
        "      \"icon\": \"https://digitalinnovationone.github.io/santander-dev-week-2023-api/icons/insurance.svg\",\n",
        "      \"description\": message\n",
        "  })\n",
        "  print(message)"
      ],
      "metadata": {
        "colab": {
          "base_uri": "https://localhost:8080/"
        },
        "id": "VjAtV_m3bNT2",
        "outputId": "09a36b93-ccd8-4bf3-d693-e1d048fd5de5"
      },
      "execution_count": null,
      "outputs": [
        {
          "output_type": "stream",
          "name": "stdout",
          "text": [
            "Invista para realizar seus sonhos: seu futuro agradece!\n"
          ]
        }
      ]
    },
    {
      "cell_type": "code",
      "source": [
        "users"
      ],
      "metadata": {
        "colab": {
          "base_uri": "https://localhost:8080/"
        },
        "id": "Ol_9hRPWfVPr",
        "outputId": "2f840f20-0874-4c4b-bffc-49d223c81250"
      },
      "execution_count": null,
      "outputs": [
        {
          "output_type": "execute_result",
          "data": {
            "text/plain": [
              "[{'id': 1,\n",
              "  'name': 'Devweekerson',\n",
              "  'account': {'id': 1,\n",
              "   'number': '01.097954-4',\n",
              "   'agency': '2030',\n",
              "   'balance': 624.12,\n",
              "   'limit': 1000.0},\n",
              "  'card': {'id': 1, 'number': 'xxxx xxxx xxxx 1111', 'limit': 2000.0},\n",
              "  'features': [{'id': 2,\n",
              "    'icon': 'https://digitalinnovationone.github.io/santander-dev-week-2023-api/icons/pay.svg',\n",
              "    'description': 'Pagar'},\n",
              "   {'id': 3,\n",
              "    'icon': 'https://digitalinnovationone.github.io/santander-dev-week-2023-api/icons/transfer.svg',\n",
              "    'description': 'Transferir'},\n",
              "   {'id': 4,\n",
              "    'icon': 'https://digitalinnovationone.github.io/santander-dev-week-2023-api/icons/account.svg',\n",
              "    'description': 'Conta Corrente'},\n",
              "   {'id': 5,\n",
              "    'icon': 'https://digitalinnovationone.github.io/santander-dev-week-2023-api/icons/cards.svg',\n",
              "    'description': 'Cartões'},\n",
              "   {'id': 1,\n",
              "    'icon': 'https://digitalinnovationone.github.io/santander-dev-week-2023-api/icons/pix.svg',\n",
              "    'description': 'PIX'}],\n",
              "  'news': [{'id': 2,\n",
              "    'icon': 'https://digitalinnovationone.github.io/santander-dev-week-2023-api/icons/insurance.svg',\n",
              "    'description': 'Santander Seguro Casa, seu faz-tudo. Mais de 50 serviços pra você. Confira!'},\n",
              "   {'id': 1,\n",
              "    'icon': 'https://digitalinnovationone.github.io/santander-dev-week-2023-api/icons/credit.svg',\n",
              "    'description': 'O Santander tem soluções de crédito sob medida pra você. Confira!'},\n",
              "   {'icon': 'https://digitalinnovationone.github.io/santander-dev-week-2023-api/icons/insurance.svg',\n",
              "    'description': 'Invista para realizar seus sonhos: seu futuro agradece!'}]}]"
            ]
          },
          "metadata": {},
          "execution_count": 68
        }
      ]
    },
    {
      "cell_type": "code",
      "source": [
        "def update_user(user):\n",
        "  print(user[\"id\"])\n",
        "  response = requests.put(\n",
        "      f'{API_URL}/users/{user[\"id\"]}',\n",
        "      json = user\n",
        "  )\n",
        "\n",
        "  print(f'{API_URL}/users/{user[\"id\"]}')\n",
        "\n",
        "  return True if response.status_code == 200 else False"
      ],
      "metadata": {
        "id": "4NGVFI8SikRH"
      },
      "execution_count": null,
      "outputs": []
    },
    {
      "cell_type": "code",
      "source": [
        "for user in users:\n",
        "  updated = update_user(user)"
      ],
      "metadata": {
        "colab": {
          "base_uri": "https://localhost:8080/"
        },
        "id": "Ts-2W64RjDWW",
        "outputId": "1ef5136c-50b6-470d-ab37-673c6c098377"
      },
      "execution_count": null,
      "outputs": [
        {
          "output_type": "stream",
          "name": "stdout",
          "text": [
            "1\n",
            "https://sdw-2023-prd.up.railway.app/users/1\n"
          ]
        }
      ]
    }
  ]
}